{
 "cells": [
  {
   "cell_type": "code",
   "execution_count": 1,
   "metadata": {},
   "outputs": [
    {
     "name": "stdout",
     "output_type": "stream",
     "text": [
      "Defaulting to user installation because normal site-packages is not writeable\n",
      "Requirement already satisfied: pydantic in /home/ubuntu/.local/lib/python3.10/site-packages (2.10.4)\n",
      "Requirement already satisfied: influx in /home/ubuntu/.local/lib/python3.10/site-packages (0.0.1)\n",
      "Requirement already satisfied: langchain in /home/ubuntu/.local/lib/python3.10/site-packages (0.3.13)\n",
      "Requirement already satisfied: annotated-types>=0.6.0 in /home/ubuntu/.local/lib/python3.10/site-packages (from pydantic) (0.7.0)\n",
      "Requirement already satisfied: pydantic-core==2.27.2 in /home/ubuntu/.local/lib/python3.10/site-packages (from pydantic) (2.27.2)\n",
      "Requirement already satisfied: typing-extensions>=4.12.2 in /home/ubuntu/.local/lib/python3.10/site-packages (from pydantic) (4.12.2)\n",
      "Requirement already satisfied: PyYAML>=5.3 in /usr/lib/python3/dist-packages (from langchain) (5.4.1)\n",
      "Requirement already satisfied: SQLAlchemy<3,>=1.4 in /home/ubuntu/.local/lib/python3.10/site-packages (from langchain) (2.0.36)\n",
      "Requirement already satisfied: aiohttp<4.0.0,>=3.8.3 in /home/ubuntu/.local/lib/python3.10/site-packages (from langchain) (3.11.9)\n",
      "Requirement already satisfied: async-timeout<5.0.0,>=4.0.0 in /home/ubuntu/.local/lib/python3.10/site-packages (from langchain) (4.0.3)\n",
      "Requirement already satisfied: langchain-core<0.4.0,>=0.3.26 in /home/ubuntu/.local/lib/python3.10/site-packages (from langchain) (0.3.28)\n",
      "Requirement already satisfied: langchain-text-splitters<0.4.0,>=0.3.3 in /home/ubuntu/.local/lib/python3.10/site-packages (from langchain) (0.3.4)\n",
      "Requirement already satisfied: langsmith<0.3,>=0.1.17 in /home/ubuntu/.local/lib/python3.10/site-packages (from langchain) (0.2.4)\n",
      "Requirement already satisfied: numpy<2,>=1.22.4 in /home/ubuntu/.local/lib/python3.10/site-packages (from langchain) (1.25.2)\n",
      "Requirement already satisfied: requests<3,>=2 in /home/ubuntu/.local/lib/python3.10/site-packages (from langchain) (2.32.3)\n",
      "Requirement already satisfied: tenacity!=8.4.0,<10,>=8.1.0 in /home/ubuntu/.local/lib/python3.10/site-packages (from langchain) (9.0.0)\n",
      "Requirement already satisfied: aiohappyeyeballs>=2.3.0 in /home/ubuntu/.local/lib/python3.10/site-packages (from aiohttp<4.0.0,>=3.8.3->langchain) (2.4.4)\n",
      "Requirement already satisfied: aiosignal>=1.1.2 in /home/ubuntu/.local/lib/python3.10/site-packages (from aiohttp<4.0.0,>=3.8.3->langchain) (1.3.1)\n",
      "Requirement already satisfied: attrs>=17.3.0 in /home/ubuntu/.local/lib/python3.10/site-packages (from aiohttp<4.0.0,>=3.8.3->langchain) (23.2.0)\n",
      "Requirement already satisfied: frozenlist>=1.1.1 in /home/ubuntu/.local/lib/python3.10/site-packages (from aiohttp<4.0.0,>=3.8.3->langchain) (1.5.0)\n",
      "Requirement already satisfied: multidict<7.0,>=4.5 in /home/ubuntu/.local/lib/python3.10/site-packages (from aiohttp<4.0.0,>=3.8.3->langchain) (6.1.0)\n",
      "Requirement already satisfied: propcache>=0.2.0 in /home/ubuntu/.local/lib/python3.10/site-packages (from aiohttp<4.0.0,>=3.8.3->langchain) (0.2.1)\n",
      "Requirement already satisfied: yarl<2.0,>=1.17.0 in /home/ubuntu/.local/lib/python3.10/site-packages (from aiohttp<4.0.0,>=3.8.3->langchain) (1.18.3)\n",
      "Requirement already satisfied: jsonpatch<2.0,>=1.33 in /home/ubuntu/.local/lib/python3.10/site-packages (from langchain-core<0.4.0,>=0.3.26->langchain) (1.33)\n",
      "Requirement already satisfied: packaging<25,>=23.2 in /home/ubuntu/.local/lib/python3.10/site-packages (from langchain-core<0.4.0,>=0.3.26->langchain) (24.2)\n",
      "Requirement already satisfied: httpx<1,>=0.23.0 in /home/ubuntu/.local/lib/python3.10/site-packages (from langsmith<0.3,>=0.1.17->langchain) (0.28.1)\n",
      "Requirement already satisfied: orjson<4.0.0,>=3.9.14 in /home/ubuntu/.local/lib/python3.10/site-packages (from langsmith<0.3,>=0.1.17->langchain) (3.10.12)\n",
      "Requirement already satisfied: requests-toolbelt<2.0.0,>=1.0.0 in /home/ubuntu/.local/lib/python3.10/site-packages (from langsmith<0.3,>=0.1.17->langchain) (1.0.0)\n",
      "Requirement already satisfied: charset-normalizer<4,>=2 in /home/ubuntu/.local/lib/python3.10/site-packages (from requests<3,>=2->langchain) (3.4.0)\n",
      "Requirement already satisfied: idna<4,>=2.5 in /usr/lib/python3/dist-packages (from requests<3,>=2->langchain) (3.3)\n",
      "Requirement already satisfied: urllib3<3,>=1.21.1 in /usr/lib/python3/dist-packages (from requests<3,>=2->langchain) (1.26.5)\n",
      "Requirement already satisfied: certifi>=2017.4.17 in /home/ubuntu/.local/lib/python3.10/site-packages (from requests<3,>=2->langchain) (2024.7.4)\n",
      "Requirement already satisfied: greenlet!=0.4.17 in /home/ubuntu/.local/lib/python3.10/site-packages (from SQLAlchemy<3,>=1.4->langchain) (3.1.1)\n",
      "Requirement already satisfied: anyio in /home/ubuntu/.local/lib/python3.10/site-packages (from httpx<1,>=0.23.0->langsmith<0.3,>=0.1.17->langchain) (4.7.0)\n",
      "Requirement already satisfied: httpcore==1.* in /home/ubuntu/.local/lib/python3.10/site-packages (from httpx<1,>=0.23.0->langsmith<0.3,>=0.1.17->langchain) (1.0.7)\n",
      "Requirement already satisfied: h11<0.15,>=0.13 in /home/ubuntu/.local/lib/python3.10/site-packages (from httpcore==1.*->httpx<1,>=0.23.0->langsmith<0.3,>=0.1.17->langchain) (0.14.0)\n",
      "Requirement already satisfied: jsonpointer>=1.9 in /usr/lib/python3/dist-packages (from jsonpatch<2.0,>=1.33->langchain-core<0.4.0,>=0.3.26->langchain) (2.0)\n",
      "Requirement already satisfied: exceptiongroup>=1.0.2 in /home/ubuntu/.local/lib/python3.10/site-packages (from anyio->httpx<1,>=0.23.0->langsmith<0.3,>=0.1.17->langchain) (1.2.2)\n",
      "Requirement already satisfied: sniffio>=1.1 in /home/ubuntu/.local/lib/python3.10/site-packages (from anyio->httpx<1,>=0.23.0->langsmith<0.3,>=0.1.17->langchain) (1.3.1)\n"
     ]
    }
   ],
   "source": [
    "!pip install pydantic influx langchain"
   ]
  },
  {
   "cell_type": "code",
   "execution_count": 4,
   "metadata": {},
   "outputs": [],
   "source": [
    "from langchain_openai import ChatOpenAI\n",
    "from toolkit import InfluxDBToolkit\n",
    "from base import create_influx_agent\n",
    "from influxdb import InfluxDBClient  \n",
    "\n",
    "def test_influx_agent(test_input):\n",
    "    llm = ChatOpenAI(model=\"gpt-4o-mini\", temperature=0, openai_api_key=\"api_key\")\n",
    "     \n",
    "    db_client = InfluxDBClient(host=\"localhost\", port=8086, database=\"db_name\")\n",
    "\n",
    "    toolkit = InfluxDBToolkit(db=db_client, llm=llm)\n",
    "    \n",
    "    agent_executor = create_influx_agent(\n",
    "        llm=llm,\n",
    "        toolkit=toolkit,\n",
    "        agent_type=\"tool-calling\",  \n",
    "        verbose=True,\n",
    "    )\n",
    "    \n",
    "    try:\n",
    "        result = agent_executor.run(input=test_input)\n",
    "        print(\"Agent Execution Result:\", result)\n",
    "    except Exception as e:\n",
    "        print(\"Error during agent execution:\", e)\n",
    "    return result\n"
   ]
  },
  {
   "cell_type": "code",
   "execution_count": 4,
   "metadata": {},
   "outputs": [
    {
     "name": "stdout",
     "output_type": "stream",
     "text": [
      "\n",
      "\n",
      "\u001b[1m> Entering new InfluxDB Agent Executor chain...\u001b[0m\n",
      "\u001b[32;1m\u001b[1;3m\n",
      "Invoking: `influx_db_list_measurements` with `{}`\n",
      "\n",
      "\n",
      "\u001b[0m\u001b[38;5;200m\u001b[1;3mmqtt\u001b[0m\u001b[32;1m\u001b[1;3m\n",
      "Invoking: `influx_db_measurement_info` with `{'measurement_names': 'mqtt'}`\n",
      "\n",
      "\n",
      "\u001b[0m\u001b[33;1m\u001b[1;3m{'mqtt': {'fields': ['102-A-01 Motor Status', '102-A-01 Motor Status_1', '102-A-01 Trip Status', '102-A-01 Trip Status_1', '102-A-02 Motor Status', '102-A-02 Motor Status_1', '102-A-02 Trip Status', '102-A-02 Trip Status_1', '102-A-03 Motor Status', '102-A-03 Motor Status_1', '102-A-03 Trip Status', '102-A-03 Trip Status_1', '102-A-04 Motor Status', '102-A-04 Motor Status_1', '102-A-04 Trip Status', '102-A-04 Trip Status_1', '102-G-01 Motor Status', '102-G-01 Motor Status_1', '102-G-01 Trip Status', '102-G-01 Trip Status_1', '102-G-02 Motor Status', '102-G-02 Motor Status_1', '102-G-02 Trip Status', '102-G-02 Trip Status_1', '102-P-01 Motor Status', '102-P-01 Motor Status_1', '102-P-01 Temp Sw', '102-P-01 Trip Status', '102-P-01 Trip Status_1', '102-P-02 Motor Status', '102-P-02 Motor Status_1', '102-P-02 Temp Sw', '102-P-02 Trip Status', '102-P-02 Trip Status_1', '102-P-03 Motor Status', '102-P-03 Motor Status_1', '102-P-03 Temp Sw', '102-P-03 Trip Status', '102-P-03 Trip Status_1', '102-P-04 Motor Status', '102-P-04 Motor Status_1', '102-P-04 Temp Sw', '102-P-04 Trip Status', '102-P-04 Trip Status_1', '102-T-01 LT', '102-T-01 TT', '102-T-01 pH', '102-T-02 LT', '102-T-02 TT', '102-T-02 pH', 'ANA-1_CH4', 'ANA-1_CO2', 'ANA-1_H2S', 'ANA-1_O2', 'ANA-2_CO2', 'ANA-2_O2', 'ANA-3_CH4', 'ANA-3_CO2', 'ANA-3_H2S', 'ANA-3_O2', 'ANALYZER-1 CH4', 'ANALYZER-1 Carbon Dioxide (CO2)', 'ANALYZER-1 Hydrogen Sulfide (H2S)', 'ANALYZER-1 Methane (CH4)', 'ANALYZER-1 Oxygen (O2)', 'ANALYZER-2 Carbon Dioxide (CO2)', 'ANALYZER-2 Methane (CH4)', 'ANALYZER-3 Carbon Dioxide (CO2)', 'ANALYZER-3 Hydrogen Sulfide (H2S)', 'ANALYZER-3 Methane (CH4)', 'ANALYZER-3 Oxygen (O2)', 'Auto Valve XV-07 Close Status', 'Auto Valve XV-07 Close Status_1', 'Auto Valve XV-07 Open Status', 'Auto Valve XV-07 Open Status_1', 'Auto Valve XV-08 Close Status', 'Auto Valve XV-08 Close Status_1', 'Auto Valve XV-08 Open Status', 'Auto Valve XV-08 Open Status_1', 'Auto Valve XV-09 Close Status', 'Auto Valve XV-09 Close Status_1', 'Auto Valve XV-09 Open Status', 'Auto Valve XV-09 Open Status_1', 'Auto Valve XV-10 Close Status', 'Auto Valve XV-10 Close Status_1', 'Auto Valve XV-10 Open Status', 'Auto Valve XV-10 Open Status_1', 'Auto Valve XV-11 Close Status', 'Auto Valve XV-11 Close Status_1', 'Auto Valve XV-11 Open Status', 'Auto Valve XV-11 Open Status_1', 'Auto Valve XV-12 Close Status', 'Auto Valve XV-12 Close Status_1', 'Auto Valve XV-12 Open Status', 'Auto Valve XV-12 Open Status_1', 'Auto Valve XV-17 Close Status', 'Auto Valve XV-17 Close Status_1', 'Auto Valve XV-17 Open Status', 'Auto Valve XV-17 Open Status_1', 'Auto Valve XV-18 Close Status', 'Auto Valve XV-18 Close Status_1', 'Auto Valve XV-18 Open Status', 'Auto Valve XV-18 Open Status_1', 'Auto Valve XV-19 Close Status', 'Auto Valve XV-19 Close Status_1', 'Auto Valve XV-19 Open Status', 'Auto Valve XV-19 Open Status_1', 'Auto Valve XV-20 Close Status', 'Auto Valve XV-20 Close Status_1', 'Auto Valve XV-20 Open Status', 'Auto Valve XV-20 Open Status_1', 'Auto Valve XV-21 Close Status', 'Auto Valve XV-21 Close Status_1', 'Auto Valve XV-21 Open Status', 'Auto Valve XV-21 Open Status_1', 'Auto Valve XV-22 Close Status', 'Auto Valve XV-22 Close Status_1', 'Auto Valve XV-22 Open Status', 'Auto Valve XV-22 Open Status_1', 'Auto Valve XV-23 Close Status', 'Auto Valve XV-23 Close Status_1', 'Auto Valve XV-23 Open Status', 'Auto Valve XV-23 Open Status_1', 'Biogas Header Line Pressure Transmitter 200-PIT-07', 'Biogas Storage Bag Level Transmitter 200-LIT-07', 'Blower 400-B-06 Run Status', 'Blower 400-B-06 Status', 'Blower 400-B-07 Run Status', 'Blower 400-B-07 Status', 'Burckhardt Compressor 3Rd Stage Discharge Pressure (PT-051)', 'Burckhardt Compressor 3Rd Stage Discharge Temperature (TT-051)', 'Burckhardt Compressor Lube Oil Temperature Transmitter (TT-101)', 'Burckhardt Compressor Oil System Differential Pressure (PDT-101)', 'Burckhardt Compressor Suction Pressure (PT-001)', 'Combined Digester Feed Flow', 'Contaminated Liquid Sump Pump Motor Status', 'Contaminated Liquid Sump Pump Motor Status_1', 'Contaminated Liquid Sump Pump Trip Status', 'Contaminated Liquid Sump Pump Trip Status_1', 'Cooling Tower Motor Status', 'Cooling Tower Motor Status_1', 'Cooling Tower Pump 1 Motor Status', 'Cooling Tower Pump 1 Motor Status_1', 'Cooling Tower Pump 1 Trip Status', 'Cooling Tower Pump 1 Trip Status_1', 'Cooling Tower Pump 2 Motor Status', 'Cooling Tower Pump 2 Motor Status_1', 'Cooling Tower Pump 2 Trip Status', 'Cooling Tower Pump 2 Trip Status_1', 'Cooling Tower Pump 3 Motor Status', 'Cooling Tower Pump 3 Motor Status_1', 'Cooling Tower Pump 3 Trip Status', 'Cooling Tower Pump 3 Trip Status_1', 'Cooling Tower Trip Status', 'Cooling Tower Trip Status_1', 'Cooling Water Return 500-TT-02 Temperature Transmitter', 'Cooling Water Supply 500-TT-01 Temperature Transmitter', 'Cover Air Blower 200-B-01 Motor Status', 'Cover Air Blower 200-B-01 Motor Status_1', 'Cover Air Blower 200-B-01 Trip Status', 'Cover Air Blower 200-B-01 Trip Status_1', 'Cover Air Blower 200-B-02 Motor Status', 'Cover Air Blower 200-B-02 Motor Status_1', 'Cover Air Blower 200-B-02 Trip Status', 'Cover Air Blower 200-B-02 Trip Status_1', 'Cover Air Blower 200-B-03 Motor Status', 'Cover Air Blower 200-B-03 Motor Status_1', 'Cover Air Blower 200-B-03 Trip Status', 'Cover Air Blower 200-B-03 Trip Status_1', 'Cover Air Blower 200-B-04 Motor Status', 'Cover Air Blower 200-B-04 Motor Status_1', 'Cover Air Blower 200-B-04 Trip Status', 'Cover Air Blower 200-B-04 Trip Status_1', 'Cover Air Blower 200-B-05 Motor Status', 'Cover Air Blower 200-B-05 Motor Status_1', 'Cover Air Blower 200-B-05 Trip Status', 'Cover Air Blower 200-B-05 Trip Status_1', 'Cover Air Blower 200-B-06 Motor Status', 'Cover Air Blower 200-B-06 Motor Status_1', 'Cover Air Blower 200-B-06 Trip Status', 'Cover Air Blower 200-B-06 Trip Status_1', 'Cover Air Blower 200-B-07 Motor Status', 'Cover Air Blower 200-B-07 Motor Status_1', 'Cover Air Blower 200-B-07 Trip Status', 'Cover Air Blower 200-B-07 Trip Status_1', 'Cover Air Blower 200-B-08 Motor Status', 'Cover Air Blower 200-B-08 Motor Status_1', 'Cover Air Blower 200-B-08 Trip Status', 'Cover Air Blower 200-B-08 Trip Status_1', 'Cover Air Blower 200-B-09 Motor Status', 'Cover Air Blower 200-B-09 Motor Status_1', 'Cover Air Blower 200-B-09 Trip Status', 'Cover Air Blower 200-B-09 Trip Status_1', 'Cover Air Blower 200-B-10 Motor Status', 'Cover Air Blower 200-B-10 Motor Status_1', 'Cover Air Blower 200-B-10 Trip Status', 'Cover Air Blower 200-B-10 Trip Status_1', 'Cover Air Blower 200-B-11 Motor Status', 'Cover Air Blower 200-B-11 Motor Status_1', 'Cover Air Blower 200-B-11 Trip Status', 'Cover Air Blower 200-B-11 Trip Status_1', 'Cover Air Blower 200-B-12 Motor Status', 'Cover Air Blower 200-B-12 Motor Status_1', 'Cover Air Blower 200-B-12 Trip Status', 'Cover Air Blower 200-B-12 Trip Status_1', 'DEW POINT-2', 'DEW POINT-PSA OUTLET', 'Digester 200-LIT-01 Level Transmitter', 'Digester 200-LIT-02 Level Transmitter', 'Digester 200-LIT-03 Level Transmitter', 'Digester 200-LIT-05 Level Transmitter', 'Digester 200-LIT-06 Level Transmitter (liquid level)', 'Digester 200-LIT-08 Cover Level Transmitter', 'Digester 200-LIT-09 Cover Level Transmitter', 'Digester 200-LIT-10 Cover Level Transmitter', 'Digester 200-LIT-11 Cover Level Transmitter', 'Digester 200-LIT-12 Cover Level Transmitter', 'Digester 200-LIT-13 Cover Level Transmitter', 'Digester 200-PIT-01 Biogass Line Pressure', 'Digester 200-PIT-01 Pressure Transmitter (biogas line)', 'Digester 200-PIT-02 Biogass Line Pressure', 'Digester 200-PIT-03 Biogass Line Pressure', 'Digester 200-PIT-04 Biogass Line Pressure', 'Digester 200-PIT-05 Biogass Line Pressure', 'Digester 200-PIT-06 Biogass Line Pressure', 'Digester 200-PIT-08 Cover Pressure Transmitter', 'Digester 200-PIT-09 Cover Pressure Transmitter', 'Digester 200-PIT-10 Cover Pressure Transmitter', 'Digester 200-PIT-11 Cover Pressure Transmitter', 'Digester 200-PIT-12 Cover Pressure Transmitter', 'Digester 200-PIT-13 Cover Pressure Transmitter', 'Digester 200-TT-01 Temperature Transmitter', 'Digester 200-TT-02 Temperature Transmitter', 'Digester 200-TT-03 Temperature Transmitter', 'Digester 200-TT-04 Temperature Transmitter', 'Digester 200-TT-05 Temperature Transmitter', 'Digester 200-TT-06 Temperature Transmitter', 'Digester Pump 200-P-01', 'Digester Pump 200-P-01 Status', 'Digester Pump 200-P-02', 'Digester Pump 200-P-02 Status', 'Digester Pump 200-P-03', 'Digester Pump 200-P-03 Status', 'Digester Pump 200-P-04', 'Digester Pump 200-P-04 Status', 'Digester Pump 200-P-05 Run Status', 'Digester Pump 200-P-05 Status', 'Digester Pump 200-P-06 Run Status', 'Digester Pump 200-P-06 Status', 'Digester Pump 200-P-07', 'Digester Pump 200-P-07 Status', 'Digester Pump 200-P-08', 'Digester Pump 200-P-08 Status', 'Digester Pump 200-P-09', 'Digester Pump 200-P-09 Status', 'Digester Pump 200-P-10', 'Digester Pump 200-P-10 Status', 'Digester Pump 200-P-11 Run Status', 'Digester Pump 200-P-11 Status', 'Digester Pump 200-P-12 Run Status', 'Digester Pump 200-P-12 Status', 'Digester Tank  200-LIT-04 Level Transmitter', 'FIQ PSA Inlet', 'FIQ PSA Outlet', 'FIT PSA Inlet', 'FIT PSA Outlet', 'FIT-600-01 Current Flow In Kg/s', 'FIT-600-01 Total Flow In Kg', 'FIT-600-02 Current Flow In Kg/s', 'FIT-600-02 Total Flow In Kg', 'FT0303', 'FT0306', 'Hot Water Pump 1 Motor Status', 'Hot Water Pump 1 Motor Status_1', 'Hot Water Pump 1 Trip Status', 'Hot Water Pump 1 Trip Status_1', 'Hot Water Pump 2 Motor Status', 'Hot Water Pump 2 Motor Status_1', 'Hot Water Pump 2 Trip Status', 'Hot Water Pump 2 Trip Status_1', 'Hot Water Return 400-TT-02 Temperature Transmitter', 'Hot Water Supply 400-TT-01 Temperature Transmitter', 'LT0208', 'LT0614', 'Leachate Sump Pump Motor Status', 'Leachate Sump Pump Motor Status_1', 'Leachate Sump Pump Trip Status', 'Leachate Sump Pump Trip Status_1', 'MCC Panel Active Power In KW', 'MCC Panel Apparent Power In KVA', 'MCC Panel B-Phase Current', 'MCC Panel Frequency', 'MCC Panel Line To Line Voltage (B-R)', 'MCC Panel Line To Line Voltage (R-Y)', 'MCC Panel Line To Line Voltage (Y-B)', 'MCC Panel Line To Neutral Voltage B-Phase', 'MCC Panel Line To Neutral Voltage R-Phase', 'MCC Panel Line To Neutral Voltage Y-Phase', 'MCC Panel Power Factor R-Phase', 'MCC Panel Power Factor Y-Phase', 'MCC Panel R-Phase Current', 'MCC Panel Reactive Power In KVAR', 'MCC Panel Total Power In kWh', 'MCC Panel Y-Phase Current', 'PIT PSA Outlet', 'PMCC Panel Active Power In KW', 'PMCC Panel Apparent Power In KVA', 'PMCC Panel B-Phase Current', 'PMCC Panel Frequency', 'PMCC Panel Line To Line Voltage (B-R)', 'PMCC Panel Line To Line Voltage (R-Y)', 'PMCC Panel Line To Line Voltage (Y-B)', 'PMCC Panel Line To Neutral Voltage B-Phase', 'PMCC Panel Line To Neutral Voltage R-Phase', 'PMCC Panel Line To Neutral Voltage Y-Phase', 'PMCC Panel Power Factor R-Phase', 'PMCC Panel Power Factor Y-Phase', 'PMCC Panel R-Phase Current', 'PMCC Panel Reactive Power In KVAR', 'PMCC Panel Total Power In kWh', 'PMCC Panel Y-Phase Current', 'PS-05', 'PS-06', 'PS-07', 'PS-08', 'PSA PCV Pos Feedback', 'PSA Product Gas Dewpoint', 'PT0121', 'PT0302', 'PT0314', 'PT0317', 'PT0707', 'Pressure Switch 400-PS-01', 'Pressure Switch PS-09', 'Pressure Switch PS-10', 'Pressure Switch PS-11', 'Pressure Switch PS-12', 'Pressure Switch PS-13', 'Pressure Switch PS-14', 'Pressure Switch PS-15', 'Pressure Switch PS-16', 'Pressure Switch PS-17', 'Pressure Switch PS-18', 'Pressure Switch PS-19', 'Pressure Switch PS-20', 'Screw Press 300-SP-01 Motor Status', 'Screw Press 300-SP-01 Motor Status_1', 'Screw Press 300-SP-01 Trip Status', 'Screw Press 300-SP-01 Trip Status_1', 'Screw Press 300-SP-02 Motor Status', 'Screw Press 300-SP-02 Motor Status_1', 'Screw Press 300-SP-02 Trip Status', 'Screw Press 300-SP-02 Trip Status_1', 'Screw Press 300-SP-03 Motor Status', 'Screw Press 300-SP-03 Motor Status_1', 'Screw Press 300-SP-03 Trip Status', 'Screw Press 300-SP-03 Trip Status_1', 'Screw Press 300-SP-04 Motor Status', 'Screw Press 300-SP-04 Motor Status_1', 'Screw Press 300-SP-04 Trip Status', 'Screw Press 300-SP-04 Trip Status_1', 'Screw Press 300-SP-05 Motor Status', 'Screw Press 300-SP-05 Motor Status_1', 'Screw Press 300-SP-05 Trip Status', 'Screw Press 300-SP-05 Trip Status_1', 'Screw Press 300-SP-06 Motor Status', 'Screw Press 300-SP-06 Motor Status_1', 'Screw Press 300-SP-06 Trip Status', 'Screw Press 300-SP-06 Trip Status_1', 'Screw Press Combined Filtrate Flow 300-FIT-01', 'Screw Press Overflow Line Level Switch 300-LS-01', 'TT0212', 'TT0307', 'TT0313', 'TT0415', 'TT0605', 'TT0708', 'TT0918', 'W2E PSA Panel Plant-A Blower Motor On Status', 'W2E PSA Panel Plant-A On Status', 'W2E PSA Panel Plant-A Vaccum Pump On Status', 'W2E PSA Panel Plant-B Blower Motor On Status', 'W2E PSA Panel Plant-B On Status', 'W2E PSA Panel Plant-B Vaccum Pump On Status', 'XV-01 Close Status', 'XV-01 Close Status_1', 'XV-01 Open Status', 'XV-01 Open Status_1', 'XV-02 Close Status', 'XV-02 Close Status_1', 'XV-02 Open Status', 'XV-02 Open Status_1', 'XV-03 Close Status', 'XV-03 Close Status_1', 'XV-03 Open Status', 'XV-03 Open Status_1', 'XV-04 Close Status', 'XV-04 Close Status_1', 'XV-04 Open Status', 'XV-04 Open Status_1', 'XV-05 Close Status', 'XV-05 Close Status_1', 'XV-05 Open Status', 'XV-05 Open Status_1', 'XV-06 Close Status', 'XV-06 Close Status_1', 'XV-06 Open Status', 'XV-06 Open Status_1', 'host', 'topic']}}\u001b[0m\u001b[32;1m\u001b[1;3m\n",
      "Invoking: `influx_db_query` with `{'query': 'SELECT \"FIT-600-01 Current Flow In Kg/s\", \"FIT-600-01 Total Flow In Kg\" FROM mqtt LIMIT 10'}`\n",
      "responded: The measurement \"mqtt\" contains several fields related to flow values, including:\n",
      "\n",
      "- FIT-600-01 Current Flow In Kg/s\n",
      "- FIT-600-01 Total Flow In Kg\n",
      "- FIT-600-02 Current Flow In Kg/s\n",
      "- FIT-600-02 Total Flow In Kg\n",
      "\n",
      "I will query the current and total flow values from these fields. Let's proceed with the query.\n",
      "\n",
      "\u001b[0m\u001b[36;1m\u001b[1;3m[{'time': '2024-05-08T10:43:12.720986Z', 'FIT-600-01 Current Flow In Kg/s': 0.0, 'FIT-600-01 Total Flow In Kg': 4139.38134765625}, {'time': '2024-05-08T10:44:12.714898Z', 'FIT-600-01 Current Flow In Kg/s': 0.0, 'FIT-600-01 Total Flow In Kg': 4139.38134765625}, {'time': '2024-05-08T10:45:12.723074Z', 'FIT-600-01 Current Flow In Kg/s': 0.0, 'FIT-600-01 Total Flow In Kg': 4139.38134765625}, {'time': '2024-05-08T10:46:12.728780Z', 'FIT-600-01 Current Flow In Kg/s': 0.0, 'FIT-600-01 Total Flow In Kg': 4139.38134765625}, {'time': '2024-05-08T10:47:12.739003Z', 'FIT-600-01 Current Flow In Kg/s': 0.0, 'FIT-600-01 Total Flow In Kg': 4139.38134765625}, {'time': '2024-05-08T10:48:12.745971Z', 'FIT-600-01 Current Flow In Kg/s': 0.0, 'FIT-600-01 Total Flow In Kg': 4139.38134765625}, {'time': '2024-05-08T10:49:12.736059Z', 'FIT-600-01 Current Flow In Kg/s': 0.0, 'FIT-600-01 Total Flow In Kg': 4139.38134765625}, {'time': '2024-05-08T10:50:12.744781Z', 'FIT-600-01 Current Flow In Kg/s': 0.0, 'FIT-600-01 Total Flow In Kg': 4139.38134765625}, {'time': '2024-05-08T10:51:12.766094Z', 'FIT-600-01 Current Flow In Kg/s': 0.0, 'FIT-600-01 Total Flow In Kg': 4139.38134765625}, {'time': '2024-05-08T10:52:12.760782Z', 'FIT-600-01 Current Flow In Kg/s': 0.0, 'FIT-600-01 Total Flow In Kg': 4139.38134765625}]\u001b[0m\u001b[32;1m\u001b[1;3m\n",
      "Invoking: `influx_db_query` with `{'query': 'SELECT \"FIT-600-02 Current Flow In Kg/s\", \"FIT-600-02 Total Flow In Kg\" FROM mqtt LIMIT 10'}`\n",
      "responded: The measurement \"mqtt\" contains several fields related to flow values, including:\n",
      "\n",
      "- FIT-600-01 Current Flow In Kg/s\n",
      "- FIT-600-01 Total Flow In Kg\n",
      "- FIT-600-02 Current Flow In Kg/s\n",
      "- FIT-600-02 Total Flow In Kg\n",
      "\n",
      "I will query the current and total flow values from these fields. Let's proceed with the query.\n",
      "\n",
      "\u001b[0m\u001b[36;1m\u001b[1;3m[{'time': '2024-05-08T10:43:12.720986Z', 'FIT-600-02 Current Flow In Kg/s': 0.0, 'FIT-600-02 Total Flow In Kg': 871.9625854492188}, {'time': '2024-05-08T10:44:12.714898Z', 'FIT-600-02 Current Flow In Kg/s': 0.0, 'FIT-600-02 Total Flow In Kg': 871.9625854492188}, {'time': '2024-05-08T10:45:12.723074Z', 'FIT-600-02 Current Flow In Kg/s': 0.0, 'FIT-600-02 Total Flow In Kg': 871.9625854492188}, {'time': '2024-05-08T10:46:12.728780Z', 'FIT-600-02 Current Flow In Kg/s': 0.0, 'FIT-600-02 Total Flow In Kg': 871.9625854492188}, {'time': '2024-05-08T10:47:12.739003Z', 'FIT-600-02 Current Flow In Kg/s': 0.0, 'FIT-600-02 Total Flow In Kg': 871.9625854492188}, {'time': '2024-05-08T10:48:12.745971Z', 'FIT-600-02 Current Flow In Kg/s': 0.0, 'FIT-600-02 Total Flow In Kg': 871.9625854492188}, {'time': '2024-05-08T10:49:12.736059Z', 'FIT-600-02 Current Flow In Kg/s': 0.0, 'FIT-600-02 Total Flow In Kg': 871.9625854492188}, {'time': '2024-05-08T10:50:12.744781Z', 'FIT-600-02 Current Flow In Kg/s': 0.0, 'FIT-600-02 Total Flow In Kg': 871.9625854492188}, {'time': '2024-05-08T10:51:12.766094Z', 'FIT-600-02 Current Flow In Kg/s': 0.0, 'FIT-600-02 Total Flow In Kg': 871.9625854492188}, {'time': '2024-05-08T10:52:12.760782Z', 'FIT-600-02 Current Flow In Kg/s': 0.0, 'FIT-600-02 Total Flow In Kg': 871.9625854492188}]\u001b[0m\u001b[32;1m\u001b[1;3mHere are the FIT flow values:\n",
      "\n",
      "### FIT-600-01\n",
      "- **Current Flow (Kg/s)**: 0.0\n",
      "- **Total Flow (Kg)**: 4139.38\n",
      "\n",
      "### FIT-600-02\n",
      "- **Current Flow (Kg/s)**: 0.0\n",
      "- **Total Flow (Kg)**: 871.96\n",
      "\n",
      "These values are consistent across multiple timestamps, indicating that the current flow is 0.0 Kg/s for both FIT-600-01 and FIT-600-02, while the total flow values are 4139.38 Kg and 871.96 Kg, respectively.\u001b[0m\n",
      "\n",
      "\u001b[1m> Finished chain.\u001b[0m\n",
      "Agent Execution Result: Here are the FIT flow values:\n",
      "\n",
      "### FIT-600-01\n",
      "- **Current Flow (Kg/s)**: 0.0\n",
      "- **Total Flow (Kg)**: 4139.38\n",
      "\n",
      "### FIT-600-02\n",
      "- **Current Flow (Kg/s)**: 0.0\n",
      "- **Total Flow (Kg)**: 871.96\n",
      "\n",
      "These values are consistent across multiple timestamps, indicating that the current flow is 0.0 Kg/s for both FIT-600-01 and FIT-600-02, while the total flow values are 4139.38 Kg and 871.96 Kg, respectively.\n"
     ]
    }
   ],
   "source": [
    "test_input = \"show me FIT flow values \"    #Enter query here\n",
    "data = test_influx_agent(test_input)"
   ]
  }
 ],
 "metadata": {
  "kernelspec": {
   "display_name": "Python 3",
   "language": "python",
   "name": "python3"
  },
  "language_info": {
   "codemirror_mode": {
    "name": "ipython",
    "version": 3
   },
   "file_extension": ".py",
   "mimetype": "text/x-python",
   "name": "python",
   "nbconvert_exporter": "python",
   "pygments_lexer": "ipython3",
   "version": "3.10.12"
  }
 },
 "nbformat": 4,
 "nbformat_minor": 2
}
